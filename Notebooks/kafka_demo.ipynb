{
 "cells": [
  {
   "cell_type": "markdown",
   "metadata": {
    "id": "DLrDFjKHiMMA",
    "tags": []
   },
   "source": [
    "# Kafka Demo\n",
    "\n",
    "### Connect to Kafka Broker Server\n",
    "```\n",
    "ssh -o ServerAliveInterval=60 -L 9092:localhost:9092 tunnel@128.2.204.215 -NTf\n",
    "```\n",
    "pass: seaitunnel\n",
    "\n",
    "\n",
    "To kill connection at port:\n",
    "```\n",
    "lsof -ti:9092 | xargs kill -9\n",
    "```\n",
    "\n",
    "### Setup\n",
    "```\n",
    "python -m pip install kafka-python\n",
    "```"
   ]
  },
  {
   "cell_type": "code",
   "execution_count": 7,
   "metadata": {
    "id": "PUNMUptniMMC"
   },
   "outputs": [],
   "source": [
    "from os import path\n",
    "import sys, os\n",
    "from datetime import datetime\n",
    "from json import dumps, loads\n",
    "from time import sleep\n",
    "from random import randint\n",
    "import numpy as np\n",
    "# ssh -o ServerAliveInterval=60 -L 9092:localhost:9092 tunnel@128.2.204.215 -NTf\n",
    "from kafka import KafkaConsumer, KafkaProducer\n",
    "\n",
    "# Update this for your demo otherwise you'll see my data :)\n",
    "topic = 'test_ranadeep_2'"
   ]
  },
  {
   "cell_type": "markdown",
   "metadata": {},
   "source": [
    "### Producer Mode -> Writes Data to Broker"
   ]
  },
  {
   "cell_type": "code",
   "execution_count": null,
   "metadata": {},
   "outputs": [],
   "source": [
    "# Create a producer to write data to kafka\n",
    "# Ref: https://kafka-python.readthedocs.io/en/master/apidoc/KafkaProducer.html\n",
    "producer = KafkaProducer(bootstrap_servers=['localhost:9092'],\n",
    "                         value_serializer=lambda x: dumps(x).encode('utf-8'),\n",
    "                        )\n",
    "cities = ['Pittsburgh','New York','London','Bangalore','Shanghai','Tokyo','Munich']\n",
    "# Write data via the producer\n",
    "print(\"Writing to Kafka Broker\")\n",
    "for i in range(10):\n",
    "    data = f'{datetime.now().strftime(\"%Y-%m-%d %H:%M:%S\")},{cities[randint(0,len(cities)-1)]},{randint(18, 32)}ºC'\n",
    "    print(f\"Writing: {data}\")\n",
    "    producer.send(topic=topic, value=data)\n",
    "    sleep(1)"
   ]
  },
  {
   "cell_type": "markdown",
   "metadata": {},
   "source": [
    "### Consumer Mode -> Reads Data from Broker"
   ]
  },
  {
   "cell_type": "code",
   "execution_count": null,
   "metadata": {},
   "outputs": [
    {
     "name": "stdout",
     "output_type": "stream",
     "text": [
      "Reading Kafka Broker\n",
      "2022-09-08 05:34:33,Munich,19ºC\n",
      "2022-09-08 05:34:34,Munich,30ºC\n",
      "2022-09-08 05:34:35,Munich,24ºC\n",
      "2022-09-08 05:34:36,Tokyo,27ºC\n",
      "2022-09-08 05:34:37,Pittsburgh,18ºC\n",
      "2022-09-08 05:34:38,Pittsburgh,23ºC\n",
      "2022-09-08 05:34:39,New York,24ºC\n",
      "2022-09-08 05:34:40,London,21ºC\n",
      "2022-09-08 05:34:41,Shanghai,18ºC\n",
      "2022-09-08 05:34:42,Tokyo,28ºC\n",
      "2022-09-08 05:35:23,London,31ºC\n",
      "2022-09-08 05:35:24,New York,27ºC\n",
      "2022-09-08 05:35:25,Pittsburgh,22ºC\n",
      "2022-09-08 05:35:26,Shanghai,29ºC\n",
      "2022-09-08 05:35:27,Pittsburgh,25ºC\n",
      "2022-09-08 05:35:28,New York,30ºC\n",
      "2022-09-08 05:35:29,New York,26ºC\n",
      "2022-09-08 05:35:30,Bangalore,26ºC\n",
      "2022-09-08 05:35:31,Shanghai,20ºC\n",
      "2022-09-08 05:35:32,Tokyo,23ºC\n",
      "2022-09-08 05:36:34,Pittsburgh,19ºC\n",
      "2022-09-08 05:36:35,London,20ºC\n",
      "2022-09-08 05:36:36,Munich,31ºC\n",
      "2022-09-08 05:36:37,Shanghai,28ºC\n",
      "2022-09-08 06:05:59,Tokyo,29ºC\n",
      "2022-09-08 06:06:00,New York,27ºC\n",
      "2022-09-08 06:06:01,New York,29ºC\n",
      "2022-09-08 06:06:02,Bangalore,27ºC\n",
      "2022-09-08 18:11:49,Tokyo,20ºC\n",
      "2022-09-08 18:11:50,Tokyo,20ºC\n",
      "2022-09-08 18:11:51,Pittsburgh,30ºC\n",
      "2022-09-08 18:11:52,Bangalore,25ºC\n",
      "2022-09-08 18:11:53,Pittsburgh,31ºC\n",
      "2022-09-08 18:11:54,Pittsburgh,30ºC\n",
      "2022-09-08 18:11:55,Pittsburgh,26ºC\n",
      "2022-09-08 18:11:56,Tokyo,29ºC\n",
      "2022-09-08 18:11:57,Tokyo,20ºC\n",
      "2022-09-08 18:11:58,Pittsburgh,29ºC\n",
      "2022-09-08 22:01:08,Pittsburgh,26ºC\n",
      "2022-09-08 22:01:09,Pittsburgh,19ºC\n",
      "2022-09-08 22:01:10,London,19ºC\n",
      "2022-09-08 22:01:11,New York,30ºC\n",
      "2022-09-08 22:01:12,Shanghai,19ºC\n",
      "2022-09-08 22:01:13,Pittsburgh,18ºC\n",
      "2022-09-08 22:01:14,Bangalore,29ºC\n",
      "2022-09-08 22:01:15,Bangalore,28ºC\n",
      "2022-09-08 22:01:16,New York,20ºC\n",
      "2022-09-08 22:01:17,Munich,19ºC\n",
      "2022-09-08 22:09:23,Pittsburgh,28ºC\n",
      "2022-09-08 22:09:24,London,21ºC\n",
      "2022-09-08 22:09:25,Munich,30ºC\n",
      "2022-09-08 22:09:26,Munich,20ºC\n",
      "2022-09-08 22:09:27,Tokyo,20ºC\n",
      "2022-09-08 22:09:28,Bangalore,19ºC\n",
      "2022-09-08 22:09:29,London,21ºC\n",
      "2022-09-08 22:09:30,Munich,31ºC\n",
      "2022-09-08 22:09:31,Tokyo,20ºC\n",
      "2022-09-08 22:09:32,Tokyo,23ºC\n"
     ]
    }
   ],
   "source": [
    "# Create a consumer to read data from kafka\n",
    "# Ref: https://kafka-python.readthedocs.io/en/master/apidoc/KafkaConsumer.html\n",
    "consumer = KafkaConsumer(\n",
    "    topic,\n",
    "    bootstrap_servers=['localhost:9092'],\n",
    "    # Read from the start of the topic; Default is latest\n",
    "    auto_offset_reset='earliest',\n",
    "    # auto_offset_reset='latest',\n",
    "    # group_id='team13',\n",
    "    # Commit that an offset has been read\n",
    "    enable_auto_commit=True,\n",
    "    # How often to tell Kafka, an offset has been read\n",
    "    auto_commit_interval_ms=1000\n",
    ")\n",
    "\n",
    "print('Reading Kafka Broker')\n",
    "for message in consumer:\n",
    "\n",
    "    message = message.value.decode()\n",
    "    # Default message.value type is bytes!\n",
    "    print(loads(message))\n",
    "    os.system(f\"echo {message} >> kafka_log.csv\")"
   ]
  },
  {
   "cell_type": "markdown",
   "metadata": {},
   "source": [
    "# OR Use kcat!\n",
    "It's a CLI (Command Line Interface). Previously known as kafkacat\n",
    "\n",
    "Install with your package installer such as:\n",
    "```\n",
    "brew install kcat\n",
    "apt-get install kcat\n",
    "& more\n",
    "```\n",
    "\n",
    "Use: \n",
    "```\n",
    "kcat -b <broker> -t <topic> -p <partition>\n",
    "```\n",
    "\n",
    "Ref: https://docs.confluent.io/platform/current/app-development/kafkacat-usage.html"
   ]
  },
  {
   "cell_type": "code",
   "execution_count": null,
   "metadata": {},
   "outputs": [],
   "source": [
    "! kcat -b localhost:9092 -t \"$topic\" -p earliest"
   ]
  },
  {
   "cell_type": "markdown",
   "metadata": {},
   "source": [
    "### See more options using\n",
    "```\n",
    "kcat\n",
    "```"
   ]
  },
  {
   "cell_type": "code",
   "execution_count": null,
   "metadata": {},
   "outputs": [],
   "source": [
    "! kcat"
   ]
  }
 ],
 "metadata": {
  "colab": {
   "background_execution": "on",
   "collapsed_sections": [
    "DLrDFjKHiMMA",
    "xSjzWcB4iMME"
   ],
   "machine_shape": "hm",
   "provenance": []
  },
  "kernelspec": {
   "display_name": "Python 3.8.13 ('ML_fall')",
   "language": "python",
   "name": "python3"
  },
  "language_info": {
   "codemirror_mode": {
    "name": "ipython",
    "version": 3
   },
   "file_extension": ".py",
   "mimetype": "text/x-python",
   "name": "python",
   "nbconvert_exporter": "python",
   "pygments_lexer": "ipython3",
   "version": "3.8.13"
  },
  "vscode": {
   "interpreter": {
    "hash": "69600817429d13d9938f326c15d079722c500c97ddb53d09c79afb2c0f5ce63b"
   }
  }
 },
 "nbformat": 4,
 "nbformat_minor": 4
}
