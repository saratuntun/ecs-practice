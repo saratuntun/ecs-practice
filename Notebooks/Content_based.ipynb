{
 "cells": [
  {
   "cell_type": "code",
   "execution_count": 1,
   "metadata": {},
   "outputs": [],
   "source": [
    "import pandas as pd\n",
    "import numpy as np\n",
    "import os \n",
    "from surprise import Dataset\n",
    "from surprise import KNNWithMeans\n",
    "from surprise import Reader\n",
    "from surprise.model_selection import GridSearchCV\n",
    "import pickle\n",
    "import time\n",
    "import sys"
   ]
  },
  {
   "cell_type": "code",
   "execution_count": 2,
   "metadata": {},
   "outputs": [
    {
     "name": "stdout",
     "output_type": "stream",
     "text": [
      "Root Dir: /Users/adi/Desktop/MLIP/group-project-f22-pulp-prediction\n"
     ]
    }
   ],
   "source": [
    "root_dir, curr=os.path.split(os.path.abspath(os.curdir))\n",
    "\n",
    "print(\"Root Dir:\", root_dir)"
   ]
  },
  {
   "cell_type": "code",
   "execution_count": 3,
   "metadata": {},
   "outputs": [],
   "source": [
    "data=pd.read_csv('/Users/adi/Desktop/MLIP/group-project-f22-pulp-prediction/data/kafka_log-movielog6_stream.csv', \n",
    "        index_col=0)"
   ]
  },
  {
   "cell_type": "code",
   "execution_count": 4,
   "metadata": {},
   "outputs": [
    {
     "data": {
      "text/plain": [
       "149       108166\n",
       "242       301361\n",
       "8765      108166\n",
       "8858      301361\n",
       "9178      184424\n",
       "           ...  \n",
       "198148    309981\n",
       "198297    175334\n",
       "198506    280872\n",
       "198774    102528\n",
       "198911    293569\n",
       "Name: user_id, Length: 3674, dtype: int64"
      ]
     },
     "execution_count": 4,
     "metadata": {},
     "output_type": "execute_result"
    }
   ],
   "source": [
    "data.loc[~data['rating'].isna(),'user_id']"
   ]
  },
  {
   "cell_type": "code",
   "execution_count": 5,
   "metadata": {},
   "outputs": [],
   "source": [
    "data=data.loc[~data['rating'].isna()]"
   ]
  },
  {
   "cell_type": "code",
   "execution_count": 6,
   "metadata": {},
   "outputs": [],
   "source": [
    "top_20=data.groupby(by='movie_id').sum().sort_values(by='rating', ascending=False)\n",
    "top_20.reset_index(inplace=True)"
   ]
  },
  {
   "cell_type": "code",
   "execution_count": 7,
   "metadata": {},
   "outputs": [],
   "source": [
    "top_20=top_20['movie_id'][:20].values"
   ]
  },
  {
   "cell_type": "code",
   "execution_count": 8,
   "metadata": {},
   "outputs": [
    {
     "data": {
      "text/plain": [
       "array(['interstellar+2014', 'monsters_+inc.+2001', 'inception+2010',\n",
       "       'raiders+of+the+lost+ark+1981',\n",
       "       'the+lord+of+the+rings+the+two+towers+2002',\n",
       "       'the+lord+of+the+rings+the+return+of+the+king+2003',\n",
       "       'the+shawshank+redemption+1994',\n",
       "       'the+lord+of+the+rings+the+fellowship+of+the+ring+2001',\n",
       "       'fight+club+1999', 'spirited+away+2001',\n",
       "       'howls+moving+castle+2004', 'monty+python+and+the+holy+grail+1975',\n",
       "       'my+neighbor+totoro+1988', 'pulp+fiction+1994',\n",
       "       'one+flew+over+the+cuckoos+nest+1975', 'seven+samurai+1954',\n",
       "       'indiana+jones+and+the+last+crusade+1989',\n",
       "       'harry+potter+and+the+goblet+of+fire+2005', 'up+2009',\n",
       "       'star+wars+1977'], dtype=object)"
      ]
     },
     "execution_count": 8,
     "metadata": {},
     "output_type": "execute_result"
    }
   ],
   "source": [
    "top_20"
   ]
  },
  {
   "cell_type": "code",
   "execution_count": 9,
   "metadata": {},
   "outputs": [],
   "source": [
    "\n",
    "\n",
    "df = data.loc[:,['user_id','movie_id','rating']]"
   ]
  },
  {
   "cell_type": "code",
   "execution_count": 10,
   "metadata": {},
   "outputs": [
    {
     "data": {
      "text/plain": [
       "array(['interstellar+2014', 'monsters_+inc.+2001', 'inception+2010',\n",
       "       'raiders+of+the+lost+ark+1981',\n",
       "       'the+lord+of+the+rings+the+two+towers+2002',\n",
       "       'the+lord+of+the+rings+the+return+of+the+king+2003',\n",
       "       'the+shawshank+redemption+1994',\n",
       "       'the+lord+of+the+rings+the+fellowship+of+the+ring+2001',\n",
       "       'fight+club+1999', 'spirited+away+2001',\n",
       "       'howls+moving+castle+2004', 'monty+python+and+the+holy+grail+1975',\n",
       "       'my+neighbor+totoro+1988', 'pulp+fiction+1994',\n",
       "       'one+flew+over+the+cuckoos+nest+1975', 'seven+samurai+1954',\n",
       "       'indiana+jones+and+the+last+crusade+1989',\n",
       "       'harry+potter+and+the+goblet+of+fire+2005', 'up+2009',\n",
       "       'star+wars+1977'], dtype=object)"
      ]
     },
     "execution_count": 10,
     "metadata": {},
     "output_type": "execute_result"
    }
   ],
   "source": [
    "top_20"
   ]
  },
  {
   "cell_type": "code",
   "execution_count": 11,
   "metadata": {},
   "outputs": [],
   "source": [
    "\n",
    "reader = Reader(rating_scale=(1, 5))\n",
    "# Loads Pandas dataframe\n",
    "data = Dataset.load_from_df(df[[\"user_id\", \"movie_id\", \"rating\"]], reader)\n",
    "trainingSet = data.build_full_trainset()"
   ]
  },
  {
   "cell_type": "code",
   "execution_count": 12,
   "metadata": {},
   "outputs": [],
   "source": [
    "items=df['movie_id'].unique()\n",
    "users=df['user_id'].unique()\n",
    "\n",
    "np.savetxt(root_dir+\"/Inference/Models/items.txt\", items, fmt=\"%s\" )\n",
    "np.savetxt(root_dir+\"/Inference/Models/users.py\", users, fmt=\"%s\")\n",
    "np.savetxt(root_dir+\"/Inference/Models/top_20.py\", top_20, fmt=\"%s\")"
   ]
  },
  {
   "cell_type": "markdown",
   "metadata": {},
   "source": [
    "# Model 1: KNN"
   ]
  },
  {
   "cell_type": "markdown",
   "metadata": {},
   "source": [
    "## Tuning"
   ]
  },
  {
   "cell_type": "code",
   "execution_count": 13,
   "metadata": {},
   "outputs": [
    {
     "name": "stdout",
     "output_type": "stream",
     "text": [
      "Computing the msd similarity matrix...\n",
      "Done computing similarity matrix.\n",
      "Computing the msd similarity matrix...\n",
      "Done computing similarity matrix.\n",
      "Computing the msd similarity matrix...\n",
      "Done computing similarity matrix.\n",
      "Computing the msd similarity matrix...\n",
      "Done computing similarity matrix.\n",
      "Computing the msd similarity matrix...\n",
      "Done computing similarity matrix.\n",
      "Computing the msd similarity matrix...\n",
      "Done computing similarity matrix.\n",
      "Computing the msd similarity matrix...\n",
      "Done computing similarity matrix.\n",
      "Computing the msd similarity matrix...\n",
      "Done computing similarity matrix.\n",
      "Computing the msd similarity matrix...\n",
      "Done computing similarity matrix.\n",
      "Computing the msd similarity matrix...\n",
      "Done computing similarity matrix.\n",
      "Computing the msd similarity matrix...\n",
      "Done computing similarity matrix.\n",
      "Computing the msd similarity matrix...\n",
      "Done computing similarity matrix.\n",
      "Computing the msd similarity matrix...\n",
      "Done computing similarity matrix.\n",
      "Computing the msd similarity matrix...\n",
      "Done computing similarity matrix.\n",
      "Computing the msd similarity matrix...\n",
      "Done computing similarity matrix.\n",
      "Computing the msd similarity matrix...\n",
      "Done computing similarity matrix.\n",
      "Computing the msd similarity matrix...\n",
      "Done computing similarity matrix.\n",
      "Computing the msd similarity matrix...\n",
      "Done computing similarity matrix.\n",
      "Computing the cosine similarity matrix...\n",
      "Done computing similarity matrix.\n",
      "Computing the cosine similarity matrix...\n",
      "Done computing similarity matrix.\n",
      "Computing the cosine similarity matrix...\n",
      "Done computing similarity matrix.\n",
      "Computing the cosine similarity matrix...\n",
      "Done computing similarity matrix.\n",
      "Computing the cosine similarity matrix...\n",
      "Done computing similarity matrix.\n",
      "Computing the cosine similarity matrix...\n",
      "Done computing similarity matrix.\n",
      "Computing the cosine similarity matrix...\n",
      "Done computing similarity matrix.\n",
      "Computing the cosine similarity matrix...\n",
      "Done computing similarity matrix.\n",
      "Computing the cosine similarity matrix...\n",
      "Done computing similarity matrix.\n",
      "Computing the cosine similarity matrix...\n",
      "Done computing similarity matrix.\n",
      "Computing the cosine similarity matrix...\n",
      "Done computing similarity matrix.\n",
      "Computing the cosine similarity matrix...\n",
      "Done computing similarity matrix.\n",
      "Computing the cosine similarity matrix...\n",
      "Done computing similarity matrix.\n",
      "Computing the cosine similarity matrix...\n",
      "Done computing similarity matrix.\n",
      "Computing the cosine similarity matrix...\n",
      "Done computing similarity matrix.\n",
      "Computing the cosine similarity matrix...\n",
      "Done computing similarity matrix.\n",
      "Computing the cosine similarity matrix...\n",
      "Done computing similarity matrix.\n",
      "Computing the cosine similarity matrix...\n",
      "Done computing similarity matrix.\n",
      "Best RMSE 0.7454617354121403\n",
      "{'sim_options': {'name': 'msd', 'min_support': 3, 'user_based': False}}\n"
     ]
    }
   ],
   "source": [
    "\n",
    "sim_options = {\n",
    "    \"name\": [\"msd\", \"cosine\"],\n",
    "    \"min_support\": [3, 4, 5],\n",
    "    \"user_based\": [False, True],\n",
    "}\n",
    "\n",
    "param_grid = {\"sim_options\": sim_options}\n",
    "gs = GridSearchCV(KNNWithMeans, param_grid, measures=[\"rmse\", \"mae\"], cv=3)\n",
    "gs.fit(data)\n",
    "\n",
    "print(\"Best RMSE\",gs.best_score[\"rmse\"])\n",
    "print(gs.best_params[\"rmse\"])"
   ]
  },
  {
   "cell_type": "code",
   "execution_count": 14,
   "metadata": {},
   "outputs": [
    {
     "name": "stdout",
     "output_type": "stream",
     "text": [
      "Computing the msd similarity matrix...\n",
      "Done computing similarity matrix.\n",
      "Training time: 0.1699829102s\n"
     ]
    }
   ],
   "source": [
    "# Train with best model\n",
    "\n",
    "sim_options=gs.best_params[\"rmse\"]['sim_options']\n",
    "\n",
    "knn = KNNWithMeans(sim_options=sim_options)\n",
    "\n",
    "start=time.time()\n",
    "knn.fit(trainingSet)\n",
    "stop = time.time()\n",
    "\n",
    "print(f\"Training time: {round(stop - start,10)}s\")\n"
   ]
  },
  {
   "cell_type": "code",
   "execution_count": 15,
   "metadata": {},
   "outputs": [
    {
     "name": "stdout",
     "output_type": "stream",
     "text": [
      "Computing the msd similarity matrix...\n",
      "Done computing similarity matrix.\n",
      "Computing the msd similarity matrix...\n",
      "Done computing similarity matrix.\n",
      "Computing the msd similarity matrix...\n",
      "Done computing similarity matrix.\n",
      "Computing the msd similarity matrix...\n",
      "Done computing similarity matrix.\n",
      "Computing the msd similarity matrix...\n",
      "Done computing similarity matrix.\n",
      "Computing the msd similarity matrix...\n",
      "Done computing similarity matrix.\n",
      "Computing the msd similarity matrix...\n",
      "Done computing similarity matrix.\n",
      "Computing the msd similarity matrix...\n",
      "Done computing similarity matrix.\n",
      "Computing the msd similarity matrix...\n",
      "Done computing similarity matrix.\n",
      "Computing the msd similarity matrix...\n",
      "Done computing similarity matrix.\n",
      "Computing the msd similarity matrix...\n",
      "Done computing similarity matrix.\n",
      "Computing the msd similarity matrix...\n",
      "Done computing similarity matrix.\n",
      "Computing the msd similarity matrix...\n",
      "Done computing similarity matrix.\n",
      "Computing the msd similarity matrix...\n",
      "Done computing similarity matrix.\n",
      "Computing the msd similarity matrix...\n",
      "Done computing similarity matrix.\n",
      "Computing the msd similarity matrix...\n",
      "Done computing similarity matrix.\n",
      "Computing the msd similarity matrix...\n",
      "Done computing similarity matrix.\n",
      "Computing the msd similarity matrix...\n",
      "Done computing similarity matrix.\n",
      "Computing the msd similarity matrix...\n",
      "Done computing similarity matrix.\n",
      "Computing the msd similarity matrix...\n",
      "Done computing similarity matrix.\n",
      "Computing the msd similarity matrix...\n",
      "Done computing similarity matrix.\n",
      "Computing the msd similarity matrix...\n",
      "Done computing similarity matrix.\n",
      "Computing the msd similarity matrix...\n",
      "Done computing similarity matrix.\n",
      "Computing the msd similarity matrix...\n",
      "Done computing similarity matrix.\n",
      "Computing the msd similarity matrix...\n",
      "Done computing similarity matrix.\n",
      "Computing the msd similarity matrix...\n",
      "Done computing similarity matrix.\n",
      "Computing the msd similarity matrix...\n",
      "Done computing similarity matrix.\n",
      "Computing the msd similarity matrix...\n",
      "Done computing similarity matrix.\n",
      "Computing the msd similarity matrix...\n",
      "Done computing similarity matrix.\n",
      "Computing the msd similarity matrix...\n",
      "Done computing similarity matrix.\n",
      "Computing the msd similarity matrix...\n",
      "Done computing similarity matrix.\n",
      "Computing the msd similarity matrix...\n",
      "Done computing similarity matrix.\n",
      "Computing the msd similarity matrix...\n",
      "Done computing similarity matrix.\n",
      "Computing the msd similarity matrix...\n",
      "Done computing similarity matrix.\n",
      "Computing the msd similarity matrix...\n",
      "Done computing similarity matrix.\n",
      "Computing the msd similarity matrix...\n",
      "Done computing similarity matrix.\n",
      "Computing the msd similarity matrix...\n",
      "Done computing similarity matrix.\n",
      "Computing the msd similarity matrix...\n",
      "Done computing similarity matrix.\n",
      "Computing the msd similarity matrix...\n",
      "Done computing similarity matrix.\n",
      "Computing the msd similarity matrix...\n",
      "Done computing similarity matrix.\n",
      "Computing the msd similarity matrix...\n",
      "Done computing similarity matrix.\n",
      "Computing the msd similarity matrix...\n",
      "Done computing similarity matrix.\n",
      "Computing the msd similarity matrix...\n",
      "Done computing similarity matrix.\n",
      "Computing the msd similarity matrix...\n",
      "Done computing similarity matrix.\n",
      "Computing the msd similarity matrix...\n",
      "Done computing similarity matrix.\n",
      "Computing the msd similarity matrix...\n",
      "Done computing similarity matrix.\n",
      "Computing the msd similarity matrix...\n",
      "Done computing similarity matrix.\n",
      "Computing the msd similarity matrix...\n",
      "Done computing similarity matrix.\n",
      "Computing the msd similarity matrix...\n",
      "Done computing similarity matrix.\n",
      "Computing the msd similarity matrix...\n",
      "Done computing similarity matrix.\n",
      "Computing the msd similarity matrix...\n",
      "Done computing similarity matrix.\n",
      "Computing the msd similarity matrix...\n",
      "Done computing similarity matrix.\n",
      "Computing the msd similarity matrix...\n",
      "Done computing similarity matrix.\n",
      "Computing the msd similarity matrix...\n",
      "Done computing similarity matrix.\n",
      "Computing the msd similarity matrix...\n",
      "Done computing similarity matrix.\n",
      "Computing the msd similarity matrix...\n",
      "Done computing similarity matrix.\n",
      "Computing the msd similarity matrix...\n",
      "Done computing similarity matrix.\n",
      "Computing the msd similarity matrix...\n",
      "Done computing similarity matrix.\n",
      "Computing the msd similarity matrix...\n",
      "Done computing similarity matrix.\n",
      "Computing the msd similarity matrix...\n",
      "Done computing similarity matrix.\n",
      "Computing the msd similarity matrix...\n",
      "Done computing similarity matrix.\n",
      "Computing the msd similarity matrix...\n",
      "Done computing similarity matrix.\n",
      "Computing the msd similarity matrix...\n",
      "Done computing similarity matrix.\n",
      "Computing the msd similarity matrix...\n",
      "Done computing similarity matrix.\n",
      "Computing the msd similarity matrix...\n",
      "Done computing similarity matrix.\n",
      "Computing the msd similarity matrix...\n",
      "Done computing similarity matrix.\n",
      "Computing the msd similarity matrix...\n",
      "Done computing similarity matrix.\n",
      "Computing the msd similarity matrix...\n",
      "Done computing similarity matrix.\n",
      "Computing the msd similarity matrix...\n",
      "Done computing similarity matrix.\n",
      "Computing the msd similarity matrix...\n",
      "Done computing similarity matrix.\n",
      "Computing the msd similarity matrix...\n",
      "Done computing similarity matrix.\n",
      "Computing the msd similarity matrix...\n",
      "Done computing similarity matrix.\n",
      "Computing the msd similarity matrix...\n",
      "Done computing similarity matrix.\n",
      "Computing the msd similarity matrix...\n",
      "Done computing similarity matrix.\n",
      "Computing the msd similarity matrix...\n",
      "Done computing similarity matrix.\n",
      "Computing the msd similarity matrix...\n",
      "Done computing similarity matrix.\n",
      "Computing the msd similarity matrix...\n",
      "Done computing similarity matrix.\n",
      "Computing the msd similarity matrix...\n",
      "Done computing similarity matrix.\n",
      "Computing the msd similarity matrix...\n",
      "Done computing similarity matrix.\n",
      "Computing the msd similarity matrix...\n",
      "Done computing similarity matrix.\n",
      "Computing the msd similarity matrix...\n",
      "Done computing similarity matrix.\n",
      "Computing the msd similarity matrix...\n",
      "Done computing similarity matrix.\n",
      "Computing the msd similarity matrix...\n",
      "Done computing similarity matrix.\n",
      "Computing the msd similarity matrix...\n",
      "Done computing similarity matrix.\n",
      "Computing the msd similarity matrix...\n",
      "Done computing similarity matrix.\n",
      "Computing the msd similarity matrix...\n",
      "Done computing similarity matrix.\n",
      "Computing the msd similarity matrix...\n",
      "Done computing similarity matrix.\n",
      "Computing the msd similarity matrix...\n",
      "Done computing similarity matrix.\n",
      "Computing the msd similarity matrix...\n",
      "Done computing similarity matrix.\n",
      "Computing the msd similarity matrix...\n",
      "Done computing similarity matrix.\n",
      "Computing the msd similarity matrix...\n",
      "Done computing similarity matrix.\n",
      "Computing the msd similarity matrix...\n",
      "Done computing similarity matrix.\n",
      "Computing the msd similarity matrix...\n",
      "Done computing similarity matrix.\n",
      "Computing the msd similarity matrix...\n",
      "Done computing similarity matrix.\n",
      "Computing the msd similarity matrix...\n",
      "Done computing similarity matrix.\n",
      "Computing the msd similarity matrix...\n",
      "Done computing similarity matrix.\n",
      "Computing the msd similarity matrix...\n",
      "Done computing similarity matrix.\n",
      "Computing the msd similarity matrix...\n",
      "Done computing similarity matrix.\n",
      "Computing the msd similarity matrix...\n",
      "Done computing similarity matrix.\n",
      "Computing the msd similarity matrix...\n",
      "Done computing similarity matrix.\n",
      "0.10793745756400001\n"
     ]
    }
   ],
   "source": [
    "times=[]\n",
    "for i in range(100):\n",
    "    knn = KNNWithMeans(sim_options=sim_options)\n",
    "    start=time.time()\n",
    "    knn.fit(trainingSet)\n",
    "    stop = time.time()\n",
    "    times.append(round(stop-start,10))\n",
    "\n",
    "print (np.mean(times))"
   ]
  },
  {
   "cell_type": "code",
   "execution_count": 16,
   "metadata": {},
   "outputs": [
    {
     "name": "stdout",
     "output_type": "stream",
     "text": [
      "3.6143784409999997e-06\n"
     ]
    }
   ],
   "source": [
    "# Inference time\n",
    "\n",
    "times=[]\n",
    "\n",
    "for i in range(100000):\n",
    "    start=time.time()\n",
    "    knn.predict(57687,\"screamers+the+hunting+2009\").est\n",
    "    stop = time.time()\n",
    "    times.append(round(stop-start,10))\n",
    "\n",
    "print (np.mean(times))"
   ]
  },
  {
   "cell_type": "code",
   "execution_count": 17,
   "metadata": {},
   "outputs": [
    {
     "name": "stdout",
     "output_type": "stream",
     "text": [
      "16\n"
     ]
    }
   ],
   "source": [
    "model_path=root_dir+\"/Inference/Models/\"\n",
    "knn_filename=model_path+\"KNN_model.sav\"\n",
    "p=pickle.dump(knn, open(knn_filename, 'wb'))\n",
    "pickle.dump(knn, open(knn_filename, 'wb'))\n",
    "\n",
    "print(sys.getsizeof(p))\n",
    "\n"
   ]
  },
  {
   "cell_type": "markdown",
   "metadata": {},
   "source": [
    "# SVD model "
   ]
  },
  {
   "cell_type": "markdown",
   "metadata": {},
   "source": [
    "## Tuning"
   ]
  },
  {
   "cell_type": "code",
   "execution_count": 18,
   "metadata": {},
   "outputs": [
    {
     "name": "stdout",
     "output_type": "stream",
     "text": [
      "Best RMSE 0.7368330901491941\n",
      "{'n_epochs': 10, 'lr_all': 0.005, 'reg_all': 0.4}\n"
     ]
    }
   ],
   "source": [
    "from surprise import SVD\n",
    "\n",
    "param_grid = {\n",
    "    \"n_epochs\": [5, 10],\n",
    "    \"lr_all\": [0.002, 0.005],\n",
    "    \"reg_all\": [0.4, 0.6]\n",
    "}\n",
    "gs = GridSearchCV(SVD, param_grid, measures=[\"rmse\", \"mae\"], cv=3)\n",
    "\n",
    "gs.fit(data)\n",
    "\n",
    "print(\"Best RMSE\", gs.best_score[\"rmse\"])\n",
    "print(gs.best_params[\"rmse\"])"
   ]
  },
  {
   "cell_type": "code",
   "execution_count": 19,
   "metadata": {},
   "outputs": [
    {
     "name": "stdout",
     "output_type": "stream",
     "text": [
      "Training time: 0.1089730263s\n"
     ]
    }
   ],
   "source": [
    "# Train with best model\n",
    "best_params = gs.best_params[\"rmse\"]\n",
    "\n",
    "svd_algo = SVD(n_epochs=best_params['n_epochs'],\n",
    "               lr_all=best_params['lr_all'],\n",
    "               reg_all=best_params['reg_all'])\n",
    "\n",
    "start=time.time()\n",
    "svd_algo.fit(trainingSet)\n",
    "stop = time.time()\n",
    "print(f\"Training time: {round(stop - start,10)}s\")\n",
    "\n",
    "\n"
   ]
  },
  {
   "cell_type": "code",
   "execution_count": 20,
   "metadata": {},
   "outputs": [
    {
     "name": "stdout",
     "output_type": "stream",
     "text": [
      "0.102660918239\n"
     ]
    }
   ],
   "source": [
    "times=[]\n",
    "\n",
    "for i in range(100):\n",
    "    svd_algo = SVD(n_epochs=best_params['n_epochs'],\n",
    "                lr_all=best_params['lr_all'],\n",
    "                reg_all=best_params['reg_all'])\n",
    "\n",
    "    start=time.time()\n",
    "    svd_algo.fit(trainingSet)\n",
    "    stop = time.time()\n",
    "    times.append(round(stop-start,10))\n",
    "\n",
    "print (np.mean(times))"
   ]
  },
  {
   "cell_type": "code",
   "execution_count": 21,
   "metadata": {},
   "outputs": [
    {
     "name": "stdout",
     "output_type": "stream",
     "text": [
      "3.6978116169999997e-06\n"
     ]
    }
   ],
   "source": [
    "# Inference time\n",
    "\n",
    "times=[]\n",
    "\n",
    "for i in range(100000):\n",
    "    start=time.time()\n",
    "    svd_algo.predict(57687,\"screamers+the+hunting+2009\").est\n",
    "    stop = time.time()\n",
    "    times.append(round(stop-start,10))\n",
    "\n",
    "print (np.mean(times))"
   ]
  },
  {
   "cell_type": "code",
   "execution_count": 22,
   "metadata": {},
   "outputs": [
    {
     "name": "stdout",
     "output_type": "stream",
     "text": [
      "16\n"
     ]
    }
   ],
   "source": [
    "svd_filename=model_path+\"SVD_model.sav\"\n",
    "p=pickle.dump(svd_algo, open(svd_filename, 'wb'))\n",
    "pickle.dump(svd_algo, open(svd_filename, 'wb'))\n",
    "\n",
    "print(sys.getsizeof(p))"
   ]
  },
  {
   "cell_type": "markdown",
   "metadata": {},
   "source": [
    "### Creating model object and making recommendations"
   ]
  },
  {
   "cell_type": "code",
   "execution_count": 23,
   "metadata": {},
   "outputs": [],
   "source": [
    "sys.path.append(root_dir+\"/Inference\")"
   ]
  },
  {
   "cell_type": "code",
   "execution_count": 24,
   "metadata": {},
   "outputs": [
    {
     "data": {
      "text/plain": [
       "['/Users/adi/Desktop/MLIP/group-project-f22-pulp-prediction/Notebooks',\n",
       " '/Users/adi/.vscode/extensions/ms-toolsai.jupyter-2022.8.1002431955/pythonFiles',\n",
       " '/Users/adi/.vscode/extensions/ms-toolsai.jupyter-2022.8.1002431955/pythonFiles/lib/python',\n",
       " '/Users/adi/opt/anaconda3/envs/ML_fall/lib/python38.zip',\n",
       " '/Users/adi/opt/anaconda3/envs/ML_fall/lib/python3.8',\n",
       " '/Users/adi/opt/anaconda3/envs/ML_fall/lib/python3.8/lib-dynload',\n",
       " '',\n",
       " '/Users/adi/opt/anaconda3/envs/ML_fall/lib/python3.8/site-packages',\n",
       " '/Users/adi/Desktop/MLIP/group-project-f22-pulp-prediction/Inference']"
      ]
     },
     "execution_count": 24,
     "metadata": {},
     "output_type": "execute_result"
    }
   ],
   "source": [
    "sys.path"
   ]
  },
  {
   "cell_type": "code",
   "execution_count": 25,
   "metadata": {},
   "outputs": [],
   "source": [
    "from Inference import model"
   ]
  },
  {
   "cell_type": "code",
   "execution_count": 34,
   "metadata": {},
   "outputs": [],
   "source": [
    "recommender=model(model_path=model_path+\"SVD_model.sav\", \n",
    "                    items_path=model_path+\"items.txt\", users_path=model_path+\"users.py\", top_20_path=model_path+\"top_20.py\", do_rand=False)"
   ]
  },
  {
   "cell_type": "code",
   "execution_count": 35,
   "metadata": {},
   "outputs": [
    {
     "data": {
      "text/plain": [
       "['interstellar+2014',\n",
       " 'monsters_+inc.+2001',\n",
       " 'inception+2010',\n",
       " 'raiders+of+the+lost+ark+1981',\n",
       " 'the+lord+of+the+rings+the+two+towers+2002',\n",
       " 'the+lord+of+the+rings+the+return+of+the+king+2003',\n",
       " 'the+shawshank+redemption+1994',\n",
       " 'the+lord+of+the+rings+the+fellowship+of+the+ring+2001',\n",
       " 'fight+club+1999',\n",
       " 'spirited+away+2001',\n",
       " 'howls+moving+castle+2004',\n",
       " 'monty+python+and+the+holy+grail+1975',\n",
       " 'my+neighbor+totoro+1988',\n",
       " 'pulp+fiction+1994',\n",
       " 'one+flew+over+the+cuckoos+nest+1975',\n",
       " 'seven+samurai+1954',\n",
       " 'indiana+jones+and+the+last+crusade+1989',\n",
       " 'harry+potter+and+the+goblet+of+fire+2005',\n",
       " 'up+2009',\n",
       " 'star+wars+1977']"
      ]
     },
     "execution_count": 35,
     "metadata": {},
     "output_type": "execute_result"
    }
   ],
   "source": [
    "recommender.recommend(240127)"
   ]
  },
  {
   "cell_type": "code",
   "execution_count": null,
   "metadata": {},
   "outputs": [],
   "source": []
  },
  {
   "cell_type": "code",
   "execution_count": null,
   "metadata": {},
   "outputs": [],
   "source": []
  },
  {
   "cell_type": "code",
   "execution_count": null,
   "metadata": {},
   "outputs": [],
   "source": []
  }
 ],
 "metadata": {
  "kernelspec": {
   "display_name": "Python 3.8.13 ('ML_fall')",
   "language": "python",
   "name": "python3"
  },
  "language_info": {
   "codemirror_mode": {
    "name": "ipython",
    "version": 3
   },
   "file_extension": ".py",
   "mimetype": "text/x-python",
   "name": "python",
   "nbconvert_exporter": "python",
   "pygments_lexer": "ipython3",
   "version": "3.8.13"
  },
  "orig_nbformat": 4,
  "vscode": {
   "interpreter": {
    "hash": "69600817429d13d9938f326c15d079722c500c97ddb53d09c79afb2c0f5ce63b"
   }
  }
 },
 "nbformat": 4,
 "nbformat_minor": 2
}
