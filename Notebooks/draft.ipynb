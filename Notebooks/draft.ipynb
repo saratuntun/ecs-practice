{
 "cells": [
  {
   "cell_type": "code",
   "execution_count": 2,
   "id": "fe28c839-e573-4e8b-a466-ebbc1c715a4a",
   "metadata": {
    "scrolled": true
   },
   "outputs": [],
   "source": [
    "from pathlib import Path\n",
    "import sys, os, requests, time\n",
    "from datetime import datetime\n",
    "from json import dumps, loads\n",
    "from time import sleep\n",
    "from random import randint\n",
    "import numpy as np, pandas as pd\n",
    "from kafka import KafkaConsumer, KafkaProducer\n",
    "#\n",
    "from data_util.stream.data_processing import processor, query_data\n",
    "from data_util.stream.data_stream import kafka_streamer\n",
    "%load_ext autoreload\n",
    "%autoreload 2"
   ]
  },
  {
   "cell_type": "code",
   "execution_count": 3,
   "id": "880845e2-3019-48d9-b08f-ccecbc522583",
   "metadata": {
    "scrolled": true
   },
   "outputs": [],
   "source": [
    "class PATH_ARGS:\n",
    "    path = Path('./').absolute()\n",
    "    data_path = path/'data'\n",
    "    log_name = 'kafka_log-movielog6_stream.csv'\n",
    "    rate_log_name = log_name.split('.')[0]+'-rateonly.csv'\n",
    "    #log_output_name = 'kafka_log-movielog6(Full)-cleaned.csv'\n",
    "    log_fp = data_path/log_name\n",
    "    \n",
    "class STREAM_AGS:\n",
    "    # define parameters\n",
    "    topic = 'movielog6'"
   ]
  },
  {
   "cell_type": "markdown",
   "id": "9700990c-42b0-423e-bd28-42e44208c8a7",
   "metadata": {},
   "source": [
    "### Stream Data"
   ]
  },
  {
   "cell_type": "raw",
   "id": "8bfb8a7d-b80e-4bf9-a957-7e69ec3a92c1",
   "metadata": {
    "tags": []
   },
   "source": [
    "# Connect to server\n",
    "ssh -o ServerAliveInterval=60 -L 9092:localhost:9092 tunnel@128.2.204.215 -NTf"
   ]
  },
  {
   "cell_type": "code",
   "execution_count": 19,
   "id": "04dadaa8-e9d9-4eea-9bb8-fb360090c1e2",
   "metadata": {
    "scrolled": true
   },
   "outputs": [
    {
     "name": "stdout",
     "output_type": "stream",
     "text": [
      "/home/mangyinm/m1/data/kafka_log-movielog6_stream.csv\n",
      "Test message:2022-09-28T02:02:39,276853,GET /data/m/julie++julia+2009/109.mpg\n",
      "done\n"
     ]
    }
   ],
   "source": [
    "print(str(PATH.log_fp))\n",
    "stream = kafka_streamer(topic=topic)\n",
    "stream.stream_to_csv(int(2e5), PATH.log_fp)"
   ]
  },
  {
   "cell_type": "code",
   "execution_count": null,
   "id": "97e7b459-edc7-49cf-8e5f-9638e33b6f61",
   "metadata": {
    "scrolled": true,
    "tags": []
   },
   "outputs": [],
   "source": [
    "# ratings only\n",
    "stream.stream_to_csv_ratings(int(1e5), PATH.data_path/PATH.rate_log_name)"
   ]
  },
  {
   "cell_type": "markdown",
   "id": "58f5bf59-a52b-4c3e-a633-66b42891a6bb",
   "metadata": {
    "tags": []
   },
   "source": [
    "#### Query User/movie"
   ]
  },
  {
   "cell_type": "code",
   "execution_count": 10,
   "id": "a3376479-65d5-45ce-9c5c-fa31dfaf4655",
   "metadata": {
    "scrolled": true
   },
   "outputs": [
    {
     "name": "stdout",
     "output_type": "stream",
     "text": [
      "{'user_id': 10715, 'age': 28, 'occupation': 'executive/managerial', 'gender': 'M'}\n",
      "{'id': 'next+friday+2000', 'tmdb_id': 10471, 'imdb_id': 'tt0195945', 'title': 'Next Friday', 'original_title': 'Next Friday', 'adult': 'False', 'belongs_to_collection': {'id': 43563, 'name': 'Friday Collection', 'poster_path': '/dWh1Fohgx07AEd4vRUwgIj8BYxD.jpg', 'backdrop_path': '/pXszT8ZWGj3fohU9FY0niA0IDEw.jpg'}, 'budget': '11000000', 'genres': [{'id': 35, 'name': 'Comedy'}], 'homepage': 'null', 'original_language': 'en', 'overview': 'Ice Cube returns as Craig Jones, a streetwise man from South Central Los Angeles who has a knack for getting into trouble. This time out, Craig is still trying to outsmart neighborhood bully Debo (Tommy \"Tiny\" Lister Jr.); after Craig gets the better of Debo in a fist fight, Debo is determined to flatten Craig in a rematch. Looking to stay out of Debo\\'s way, Craig\\'s dad decides that it would be a good idea for Craig to hide out with his Uncle Elroy and cousin Day-Day in Rancho Cucamonga... but trouble seems to find him there also.', 'popularity': '10.06545', 'poster_path': '/zUzn6YBbnEhdIkqtf9w0xG58NMC.jpg', 'production_companies': [{'name': 'New Line Cinema', 'id': 12}], 'production_countries': [{'iso_3166_1': 'US', 'name': 'United States of America'}], 'release_date': '2000-01-12', 'revenue': '59827328', 'runtime': 98, 'spoken_languages': [{'iso_639_1': 'en', 'name': 'English'}], 'status': 'Released', 'vote_average': '6.5', 'vote_count': '145'}\n"
     ]
    }
   ],
   "source": [
    "print(query_data(10715, category='user'))\n",
    "print(query_data('next+friday+2000', category='movie'))"
   ]
  },
  {
   "cell_type": "markdown",
   "id": "b2c3ca8a-d125-4f16-9842-42ac60667582",
   "metadata": {},
   "source": [
    "### Data Processing"
   ]
  },
  {
   "cell_type": "code",
   "execution_count": 6,
   "id": "6623fa51-cb34-4ca2-af81-ef0ed72a11c1",
   "metadata": {
    "tags": []
   },
   "outputs": [
    {
     "name": "stdout",
     "output_type": "stream",
     "text": [
      "Size:(2825, 6), \n",
      "Columns:Index(['timestamp', 'user_id', 'request_type', 'movie_id', 'movie_time',\n",
      "       'rating'],\n",
      "      dtype='object')\n",
      "(2825, 6)\n"
     ]
    },
    {
     "data": {
      "text/html": [
       "<div>\n",
       "<style scoped>\n",
       "    .dataframe tbody tr th:only-of-type {\n",
       "        vertical-align: middle;\n",
       "    }\n",
       "\n",
       "    .dataframe tbody tr th {\n",
       "        vertical-align: top;\n",
       "    }\n",
       "\n",
       "    .dataframe thead th {\n",
       "        text-align: right;\n",
       "    }\n",
       "</style>\n",
       "<table border=\"1\" class=\"dataframe\">\n",
       "  <thead>\n",
       "    <tr style=\"text-align: right;\">\n",
       "      <th></th>\n",
       "      <th>timestamp</th>\n",
       "      <th>user_id</th>\n",
       "      <th>request_type</th>\n",
       "      <th>movie_id</th>\n",
       "      <th>movie_time</th>\n",
       "      <th>rating</th>\n",
       "    </tr>\n",
       "  </thead>\n",
       "  <tbody>\n",
       "    <tr>\n",
       "      <th>0</th>\n",
       "      <td>2022-09-28T02:13:44</td>\n",
       "      <td>107555</td>\n",
       "      <td>rate</td>\n",
       "      <td>john+carter+2012</td>\n",
       "      <td>&lt;NA&gt;</td>\n",
       "      <td>2</td>\n",
       "    </tr>\n",
       "    <tr>\n",
       "      <th>1</th>\n",
       "      <td>2022-09-28T02:13:45</td>\n",
       "      <td>312873</td>\n",
       "      <td>rate</td>\n",
       "      <td>life+is+sweet+1990</td>\n",
       "      <td>&lt;NA&gt;</td>\n",
       "      <td>4</td>\n",
       "    </tr>\n",
       "  </tbody>\n",
       "</table>\n",
       "</div>"
      ],
      "text/plain": [
       "             timestamp  user_id request_type            movie_id movie_time  \\\n",
       "0  2022-09-28T02:13:44   107555         rate    john+carter+2012       <NA>   \n",
       "1  2022-09-28T02:13:45   312873         rate  life+is+sweet+1990       <NA>   \n",
       "\n",
       "  rating  \n",
       "0      2  \n",
       "1      4  "
      ]
     },
     "execution_count": 6,
     "metadata": {},
     "output_type": "execute_result"
    }
   ],
   "source": [
    "fp = PATH_ARGS.data_path/PATH_ARGS.rate_log_name\n",
    "preprocessor = processor(fp, frac=None, chunksize=5000, debug=True)\n",
    "input_df = preprocessor.alt_data\n",
    "print(input_df.shape)\n",
    "input_df.head(2)"
   ]
  },
  {
   "cell_type": "code",
   "execution_count": 7,
   "id": "5d05c8f9-656e-4fd3-8f91-1860bd2969d8",
   "metadata": {},
   "outputs": [
    {
     "name": "stdout",
     "output_type": "stream",
     "text": [
      "Adding time info\n",
      "   year  month  day  hour  weekday  user_id request_type            movie_id  \\\n",
      "0  2022      9   28     2        2   107555         rate    john+carter+2012   \n",
      "1  2022      9   28     2        2   312873         rate  life+is+sweet+1990   \n",
      "\n",
      "  movie_time rating  \n",
      "0       <NA>      2  \n",
      "1       <NA>      4  \n",
      "Adding user info\n",
      "   year  month  day  hour  weekday user_id request_type            movie_id  \\\n",
      "0  2022      9   28     2        2  107555         rate    john+carter+2012   \n",
      "1  2022      9   28     2        2  312873         rate  life+is+sweet+1990   \n",
      "\n",
      "  movie_time rating user_id age occupation gender  \n",
      "0       <NA>      2  107555  27  executive      M  \n",
      "1       <NA>      4  312873  27    college      F  \n",
      "Adding movie info\n",
      "(2825, 13)\n"
     ]
    },
    {
     "data": {
      "text/html": [
       "<div>\n",
       "<style scoped>\n",
       "    .dataframe tbody tr th:only-of-type {\n",
       "        vertical-align: middle;\n",
       "    }\n",
       "\n",
       "    .dataframe tbody tr th {\n",
       "        vertical-align: top;\n",
       "    }\n",
       "\n",
       "    .dataframe thead th {\n",
       "        text-align: right;\n",
       "    }\n",
       "</style>\n",
       "<table border=\"1\" class=\"dataframe\">\n",
       "  <thead>\n",
       "    <tr style=\"text-align: right;\">\n",
       "      <th></th>\n",
       "      <th>year</th>\n",
       "      <th>month</th>\n",
       "      <th>day</th>\n",
       "      <th>hour</th>\n",
       "      <th>weekday</th>\n",
       "      <th>user_id</th>\n",
       "      <th>request_type</th>\n",
       "      <th>movie_id</th>\n",
       "      <th>movie_time</th>\n",
       "      <th>rating</th>\n",
       "      <th>age</th>\n",
       "      <th>occupation</th>\n",
       "      <th>gender</th>\n",
       "    </tr>\n",
       "  </thead>\n",
       "  <tbody>\n",
       "    <tr>\n",
       "      <th>0</th>\n",
       "      <td>2022</td>\n",
       "      <td>9</td>\n",
       "      <td>28</td>\n",
       "      <td>2</td>\n",
       "      <td>2</td>\n",
       "      <td>107555</td>\n",
       "      <td>rate</td>\n",
       "      <td>john+carter+2012</td>\n",
       "      <td>&lt;NA&gt;</td>\n",
       "      <td>2</td>\n",
       "      <td>27</td>\n",
       "      <td>executive</td>\n",
       "      <td>M</td>\n",
       "    </tr>\n",
       "    <tr>\n",
       "      <th>1</th>\n",
       "      <td>2022</td>\n",
       "      <td>9</td>\n",
       "      <td>28</td>\n",
       "      <td>2</td>\n",
       "      <td>2</td>\n",
       "      <td>312873</td>\n",
       "      <td>rate</td>\n",
       "      <td>life+is+sweet+1990</td>\n",
       "      <td>&lt;NA&gt;</td>\n",
       "      <td>4</td>\n",
       "      <td>27</td>\n",
       "      <td>college</td>\n",
       "      <td>F</td>\n",
       "    </tr>\n",
       "  </tbody>\n",
       "</table>\n",
       "</div>"
      ],
      "text/plain": [
       "   year  month  day  hour  weekday  user_id request_type            movie_id  \\\n",
       "0  2022      9   28     2        2   107555         rate    john+carter+2012   \n",
       "1  2022      9   28     2        2   312873         rate  life+is+sweet+1990   \n",
       "\n",
       "  movie_time rating age occupation gender  \n",
       "0       <NA>      2  27  executive      M  \n",
       "1       <NA>      4  27    college      F  "
      ]
     },
     "execution_count": 7,
     "metadata": {},
     "output_type": "execute_result"
    }
   ],
   "source": [
    "# main pipline\n",
    "input_df = preprocessor.main()\n",
    "print(input_df.shape)\n",
    "input_df.head(2)"
   ]
  },
  {
   "cell_type": "code",
   "execution_count": null,
   "id": "7bb8c616-8bab-481f-9aa7-4a239889c85c",
   "metadata": {},
   "outputs": [],
   "source": [
    "input_df.to_csv(PATH.log_fp.parent/(PATH.log_name.split('.')[0]+'-cleaned.csv'))\n",
    "#"
   ]
  },
  {
   "cell_type": "markdown",
   "id": "b5257d35-1fe7-46bd-a8dc-9d1fbeb56ee9",
   "metadata": {},
   "source": [
    "post processing"
   ]
  },
  {
   "cell_type": "markdown",
   "id": "63f49d68-37a4-47da-a792-c6ede7315e7b",
   "metadata": {
    "tags": []
   },
   "source": [
    "### Mongodb"
   ]
  },
  {
   "cell_type": "code",
   "execution_count": 8,
   "id": "ef188134-9cb4-4e31-a65e-15eb534276b6",
   "metadata": {},
   "outputs": [],
   "source": [
    "from pyspark.sql import SparkSession\n",
    "from data_util.mongo.mongo_query import mongo_ops\n",
    "mongo = mongo_ops(db='movielog')"
   ]
  },
  {
   "cell_type": "raw",
   "id": "149e5f56-f3f1-4f87-ba48-787e9e5b998e",
   "metadata": {},
   "source": [
    "my_spark = SparkSession \\\n",
    "    .builder \\\n",
    "    .appName(\"myApp\") \\\n",
    "    .config(\"spark.mongodb.input.uri\", \"mongodb://127.0.0.1/test.coll\") \\\n",
    "    .config(\"spark.mongodb.output.uri\", \"mongodb://127.0.0.1/test.coll\") \\\n",
    "    .getOrCreate()"
   ]
  },
  {
   "cell_type": "code",
   "execution_count": 24,
   "id": "bff1b4df-e3fb-4788-93db-6868edbf2cda",
   "metadata": {},
   "outputs": [
    {
     "ename": "NameError",
     "evalue": "name 'mongo' is not defined",
     "output_type": "error",
     "traceback": [
      "\u001b[0;31m---------------------------------------------------------------------------\u001b[0m",
      "\u001b[0;31mNameError\u001b[0m                                 Traceback (most recent call last)",
      "Cell \u001b[0;32mIn [24], line 1\u001b[0m\n\u001b[0;32m----> 1\u001b[0m df \u001b[38;5;241m=\u001b[39m \u001b[43mmongo\u001b[49m\u001b[38;5;241m.\u001b[39mread(collection\u001b[38;5;241m=\u001b[39m\u001b[38;5;124m'\u001b[39m\u001b[38;5;124mstream-rateonly\u001b[39m\u001b[38;5;124m'\u001b[39m)\n\u001b[1;32m      2\u001b[0m df \u001b[38;5;241m=\u001b[39m df\u001b[38;5;241m.\u001b[39mset_index(df\u001b[38;5;241m.\u001b[39mcolumns[\u001b[38;5;241m1\u001b[39m])\n\u001b[1;32m      3\u001b[0m df \u001b[38;5;241m=\u001b[39m df\u001b[38;5;241m.\u001b[39mdrop(\u001b[38;5;124m'\u001b[39m\u001b[38;5;124m_id\u001b[39m\u001b[38;5;124m'\u001b[39m, axis\u001b[38;5;241m=\u001b[39m\u001b[38;5;241m1\u001b[39m)\n",
      "\u001b[0;31mNameError\u001b[0m: name 'mongo' is not defined"
     ]
    }
   ],
   "source": [
    "df = mongo.read(collection='stream-rateonly')\n",
    "df = df.set_index(df.columns[1])\n",
    "df = df.drop('_id', axis=1)\n",
    "df.head(2)"
   ]
  },
  {
   "cell_type": "code",
   "execution_count": 30,
   "id": "2e81d225-edb0-4568-8c30-ef1c856a7e45",
   "metadata": {},
   "outputs": [
    {
     "data": {
      "text/html": [
       "<div>\n",
       "<style scoped>\n",
       "    .dataframe tbody tr th:only-of-type {\n",
       "        vertical-align: middle;\n",
       "    }\n",
       "\n",
       "    .dataframe tbody tr th {\n",
       "        vertical-align: top;\n",
       "    }\n",
       "\n",
       "    .dataframe thead th {\n",
       "        text-align: right;\n",
       "    }\n",
       "</style>\n",
       "<table border=\"1\" class=\"dataframe\">\n",
       "  <thead>\n",
       "    <tr style=\"text-align: right;\">\n",
       "      <th></th>\n",
       "      <th>movie_id</th>\n",
       "      <th>adult</th>\n",
       "      <th>genres</th>\n",
       "      <th>original_language</th>\n",
       "      <th>popularity</th>\n",
       "      <th>production_companies</th>\n",
       "      <th>production_countries</th>\n",
       "      <th>revenue</th>\n",
       "      <th>runtime</th>\n",
       "      <th>spoken_languages</th>\n",
       "      <th>status</th>\n",
       "      <th>vote_average</th>\n",
       "      <th>vote_count</th>\n",
       "      <th>message</th>\n",
       "    </tr>\n",
       "    <tr>\n",
       "      <th></th>\n",
       "      <th></th>\n",
       "      <th></th>\n",
       "      <th></th>\n",
       "      <th></th>\n",
       "      <th></th>\n",
       "      <th></th>\n",
       "      <th></th>\n",
       "      <th></th>\n",
       "      <th></th>\n",
       "      <th></th>\n",
       "      <th></th>\n",
       "      <th></th>\n",
       "      <th></th>\n",
       "      <th></th>\n",
       "    </tr>\n",
       "  </thead>\n",
       "  <tbody>\n",
       "    <tr>\n",
       "      <th>242.0</th>\n",
       "      <td>survival+quest+1988</td>\n",
       "      <td>False</td>\n",
       "      <td>[28, 12, 53]</td>\n",
       "      <td>en</td>\n",
       "      <td>2.826282</td>\n",
       "      <td>[3146, 8411]</td>\n",
       "      <td>[United States of America]</td>\n",
       "      <td>0</td>\n",
       "      <td>96.0</td>\n",
       "      <td>[English]</td>\n",
       "      <td>Released</td>\n",
       "      <td>5.8</td>\n",
       "      <td>4</td>\n",
       "      <td>NaN</td>\n",
       "    </tr>\n",
       "    <tr>\n",
       "      <th>8765.0</th>\n",
       "      <td>maleficent+2014</td>\n",
       "      <td>False</td>\n",
       "      <td>[14, 12, 28, 10751, 10749]</td>\n",
       "      <td>en</td>\n",
       "      <td>19.467404</td>\n",
       "      <td>[2, 3036, 16314]</td>\n",
       "      <td>[United States of America]</td>\n",
       "      <td>758539785</td>\n",
       "      <td>97.0</td>\n",
       "      <td>[English]</td>\n",
       "      <td>Released</td>\n",
       "      <td>7.0</td>\n",
       "      <td>4607</td>\n",
       "      <td>NaN</td>\n",
       "    </tr>\n",
       "  </tbody>\n",
       "</table>\n",
       "</div>"
      ],
      "text/plain": [
       "                   movie_id  adult                      genres  \\\n",
       "                                                                 \n",
       "242.0   survival+quest+1988  False                [28, 12, 53]   \n",
       "8765.0      maleficent+2014  False  [14, 12, 28, 10751, 10749]   \n",
       "\n",
       "       original_language popularity production_companies  \\\n",
       "                                                           \n",
       "242.0                 en   2.826282         [3146, 8411]   \n",
       "8765.0                en  19.467404     [2, 3036, 16314]   \n",
       "\n",
       "              production_countries    revenue  runtime spoken_languages  \\\n",
       "                                                                          \n",
       "242.0   [United States of America]          0     96.0        [English]   \n",
       "8765.0  [United States of America]  758539785     97.0        [English]   \n",
       "\n",
       "          status vote_average vote_count message  \n",
       "                                                  \n",
       "242.0   Released          5.8          4     NaN  \n",
       "8765.0  Released          7.0       4607     NaN  "
      ]
     },
     "execution_count": 30,
     "metadata": {},
     "output_type": "execute_result"
    }
   ],
   "source": [
    "#movie_df = df['movie_id'].apply(processor().expand_movie)\n",
    "#movie_df = movie_df.rename({movie_df.columns[0]:'movie_id'})\n",
    "movie_df = pd.concat([df['movie_id'], movie_df], axis=1)\n",
    "movie_df.head(2)"
   ]
  },
  {
   "cell_type": "code",
   "execution_count": 31,
   "id": "d46c1150-4338-40e5-b4b4-451f1941ad5e",
   "metadata": {},
   "outputs": [
    {
     "name": "stdout",
     "output_type": "stream",
     "text": [
      "Added.\n"
     ]
    }
   ],
   "source": [
    "mongo.import_df('movie-rateonly', movie_df)"
   ]
  },
  {
   "cell_type": "markdown",
   "id": "0586e015-3d0f-4795-ae33-a9205cbcbc42",
   "metadata": {},
   "source": [
    "<b> Mongo Atlas"
   ]
  },
  {
   "cell_type": "code",
   "execution_count": 17,
   "id": "a34c1a4e-ad16-4cc3-b777-9f23bf2eaefd",
   "metadata": {},
   "outputs": [],
   "source": [
    "atlas_mongo = mongo_ops(db='movielog',host='cluster0.xuddjop.mongodb.net', \n",
    "                        username='mlproduction', password='pulp_prediction', atlas=True)"
   ]
  },
  {
   "cell_type": "code",
   "execution_count": 32,
   "id": "0c47125c-c0bb-4ff0-999e-270a50e37fbd",
   "metadata": {},
   "outputs": [
    {
     "name": "stdout",
     "output_type": "stream",
     "text": [
      "Added.\n"
     ]
    }
   ],
   "source": [
    "#atlas_mongo.import_df('stream-rateonly', df)\n",
    "#atlas_mongo.import_df('user-rateonly', user_df)\n",
    "atlas_mongo.import_df('movie-rateonly', movie_df)"
   ]
  }
 ],
 "metadata": {
  "kernelspec": {
   "display_name": "Python 3 (ipykernel)",
   "language": "python",
   "name": "python3"
  },
  "language_info": {
   "codemirror_mode": {
    "name": "ipython",
    "version": 3
   },
   "file_extension": ".py",
   "mimetype": "text/x-python",
   "name": "python",
   "nbconvert_exporter": "python",
   "pygments_lexer": "ipython3",
   "version": "3.8.10"
  },
  "vscode": {
   "interpreter": {
    "hash": "69600817429d13d9938f326c15d079722c500c97ddb53d09c79afb2c0f5ce63b"
   }
  }
 },
 "nbformat": 4,
 "nbformat_minor": 5
}
