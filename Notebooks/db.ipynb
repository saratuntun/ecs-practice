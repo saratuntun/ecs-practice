{
 "cells": [
  {
   "cell_type": "code",
   "execution_count": 3,
   "id": "fe28c839-e573-4e8b-a466-ebbc1c715a4a",
   "metadata": {
    "scrolled": true
   },
   "outputs": [],
   "source": [
    "from pathlib import Path\n",
    "import sys, os, requests, time\n",
    "from datetime import datetime\n",
    "from json import dumps, loads\n",
    "from time import sleep\n",
    "from random import randint\n",
    "import numpy as np, pandas as pd\n",
    "from kafka import KafkaConsumer, KafkaProducer\n",
    "#\n",
    "from data_util.stream.data_processing import processor, query_data\n",
    "from data_util.stream.data_stream import kafka_streamer\n",
    "%load_ext autoreload\n",
    "%autoreload 2"
   ]
  },
  {
   "cell_type": "code",
   "execution_count": 4,
   "id": "880845e2-3019-48d9-b08f-ccecbc522583",
   "metadata": {
    "scrolled": true
   },
   "outputs": [],
   "source": [
    "class PATH:\n",
    "    path = Path('./').absolute()\n",
    "    data_path = path/'data'\n",
    "    log_name = 'kafka_log-movielog6_stream.csv'\n",
    "    rate_log_name = log_name.split('.')[0]+'-rateonly.csv'\n",
    "    #log_output_name = 'kafka_log-movielog6(Full)-cleaned.csv'\n",
    "    log_fp = data_path/log_name"
   ]
  },
  {
   "cell_type": "code",
   "execution_count": 5,
   "id": "f9cfb18c-885a-4373-8494-8ffba3697ef2",
   "metadata": {
    "scrolled": true
   },
   "outputs": [],
   "source": [
    "# define parameters\n",
    "topic = 'movielog6'"
   ]
  },
  {
   "cell_type": "markdown",
   "id": "63f49d68-37a4-47da-a792-c6ede7315e7b",
   "metadata": {
    "tags": []
   },
   "source": [
    "### Mongodb"
   ]
  },
  {
   "cell_type": "code",
   "execution_count": 16,
   "id": "ef188134-9cb4-4e31-a65e-15eb534276b6",
   "metadata": {},
   "outputs": [],
   "source": [
    "from pyspark.sql import SparkSession\n",
    "from pyspark import SparkContext,SparkConf\n",
    "conf = SparkConf().set(\"spark.jars.packages\", \"org.mongodb.spark:mongo-spark-connector:10.0.4\")\n",
    "\n",
    "import pymongo\n",
    "from data_util.mongo_query import mongo_ops\n",
    "mongo_local = mongo_ops(db='movielog', host = '127.0.0.1', port = 27017,)"
   ]
  },
  {
   "cell_type": "code",
   "execution_count": 22,
   "id": "22521747-e322-4e73-ae65-33c41a1b96ba",
   "metadata": {},
   "outputs": [],
   "source": [
    "# Pysparl not used\n",
    "db = 'movielog'\n",
    "collection = 'stream-rateonly'\n",
    "mongo_spark = SparkSession \\\n",
    "    .builder \\\n",
    "    .appName(\"myApp\") \\\n",
    "    .master(\"local\") \\\n",
    "    .config('spark.driver.extraClassPath','/opt/spark/jars/*') \\\n",
    "    .config(\"spark.mongodb.input.uri\", f\"mongodb://127.0.0.1:27017/{db}/{collection}\") \\\n",
    "    .config(\"spark.mongodb.output.uri\", f\"mongodb://127.0.0.1:27017/{db}/{collection}\") \\\n",
    "    .config('spark.jars.packages', 'org.mongodb.spark:mongo-spark-connector:10.0.4') \\\n",
    "    .getOrCreate()\n",
    "#com.mongodb.spark.sql.connector.MongoTableProvider"
   ]
  },
  {
   "cell_type": "markdown",
   "id": "d3ff7546-20c9-4aa9-b720-7cd4dbf717ac",
   "metadata": {
    "jp-MarkdownHeadingCollapsed": true,
    "tags": []
   },
   "source": [
    "<b> Mongo DB API for Join"
   ]
  },
  {
   "cell_type": "code",
   "execution_count": 55,
   "id": "53f4b4fe-4d96-4aea-8f2a-c3a43b7099ff",
   "metadata": {},
   "outputs": [
    {
     "name": "stdout",
     "output_type": "stream",
     "text": [
      "Collections:['stream-rateonly', 'combined-rateonly', 'user-rateonly', 'movie-rateonly', 'stream', 'user-rateonly_nodup']\n"
     ]
    },
    {
     "data": {
      "text/html": [
       "<div>\n",
       "<style scoped>\n",
       "    .dataframe tbody tr th:only-of-type {\n",
       "        vertical-align: middle;\n",
       "    }\n",
       "\n",
       "    .dataframe tbody tr th {\n",
       "        vertical-align: top;\n",
       "    }\n",
       "\n",
       "    .dataframe thead th {\n",
       "        text-align: right;\n",
       "    }\n",
       "</style>\n",
       "<table border=\"1\" class=\"dataframe\">\n",
       "  <thead>\n",
       "    <tr style=\"text-align: right;\">\n",
       "      <th></th>\n",
       "      <th>_id</th>\n",
       "      <th>user_id</th>\n",
       "      <th>age</th>\n",
       "      <th>occupation</th>\n",
       "      <th>gender</th>\n",
       "    </tr>\n",
       "  </thead>\n",
       "  <tbody>\n",
       "    <tr>\n",
       "      <th>0</th>\n",
       "      <td>6331f6adf6b96b5628d01783</td>\n",
       "      <td>244058</td>\n",
       "      <td>27</td>\n",
       "      <td>self-employed</td>\n",
       "      <td>M</td>\n",
       "    </tr>\n",
       "    <tr>\n",
       "      <th>1</th>\n",
       "      <td>6331f6adf6b96b5628d0179e</td>\n",
       "      <td>212777</td>\n",
       "      <td>31</td>\n",
       "      <td>self-employed</td>\n",
       "      <td>M</td>\n",
       "    </tr>\n",
       "  </tbody>\n",
       "</table>\n",
       "</div>"
      ],
      "text/plain": [
       "                        _id user_id age     occupation gender\n",
       "0  6331f6adf6b96b5628d01783  244058  27  self-employed      M\n",
       "1  6331f6adf6b96b5628d0179e  212777  31  self-employed      M"
      ]
     },
     "execution_count": 55,
     "metadata": {},
     "output_type": "execute_result"
    }
   ],
   "source": [
    "conn = mongo_local.conn['user-rateonly']\n",
    "cursor = conn.find().sort('timestamp').limit(2)\n",
    "print(f\"Collections:{mongo_local.conn.list_collection_names()}\")\n",
    "pd.DataFrame(list(cursor)).head(2)"
   ]
  },
  {
   "cell_type": "code",
   "execution_count": 57,
   "id": "860ebc59-5504-48f1-959d-954745c7eb0e",
   "metadata": {},
   "outputs": [],
   "source": [
    "def join_by_id(db, stream_collection:str=\"streamCollection\", user_collection:str=\"myUserCollection\", movie_collection:str=\"myMovieCollection\"):\n",
    "    db[user_collection].aggregate(\n",
    "        pipeline = [\n",
    "            { \"$sort\": { \"_id\": 1 } }, \n",
    "            { \"$group\": { \n",
    "                \"_id\": \"$user_id\", \n",
    "                \"doc\": { \"$first\": \"$$ROOT\" } \n",
    "            }}, \n",
    "            { \"$replaceRoot\": { \"newRoot\": \"$doc\" } },\n",
    "            { \"$out\": \"user-rateonly_nodup\" },\n",
    "        ]\n",
    "    )\n",
    "    db[stream_collection].aggregate(\n",
    "        pipeline = [\n",
    "            {\n",
    "                \"$lookup\": {\n",
    "                    'from': 'movie-rateonly_nodub',\n",
    "                    'localField': 'movie_id',\n",
    "                    'foreignField': 'movie_id',\n",
    "                    'as': 'movie_info'\n",
    "                }\n",
    "            },\n",
    "            {\n",
    "                \"$lookup\": {\n",
    "                    'from': 'user-rateonly_nodub',\n",
    "                    'localField': 'user_id',\n",
    "                    'foreignField': 'user_id',\n",
    "                    'as': 'user_info'\n",
    "                }\n",
    "            },\n",
    "            { \"$out\": \"combined-rateonly\" }\n",
    "        ]\n",
    "    )\n",
    "    return result\n",
    "mongo_cursor = join_by_id(mongo_local.conn, user_collection='user-rateonly')"
   ]
  },
  {
   "cell_type": "code",
   "execution_count": 13,
   "id": "5ff946f9-b297-4e6c-8209-025f9a339db2",
   "metadata": {},
   "outputs": [
    {
     "data": {
      "text/html": [
       "<div>\n",
       "<style scoped>\n",
       "    .dataframe tbody tr th:only-of-type {\n",
       "        vertical-align: middle;\n",
       "    }\n",
       "\n",
       "    .dataframe tbody tr th {\n",
       "        vertical-align: top;\n",
       "    }\n",
       "\n",
       "    .dataframe thead th {\n",
       "        text-align: right;\n",
       "    }\n",
       "</style>\n",
       "<table border=\"1\" class=\"dataframe\">\n",
       "  <thead>\n",
       "    <tr style=\"text-align: right;\">\n",
       "      <th></th>\n",
       "      <th>_id</th>\n",
       "      <th>timestamp</th>\n",
       "      <th>user_id</th>\n",
       "      <th>request_type</th>\n",
       "      <th>movie_id</th>\n",
       "      <th>movie_time</th>\n",
       "      <th>rating</th>\n",
       "    </tr>\n",
       "  </thead>\n",
       "  <tbody>\n",
       "    <tr>\n",
       "      <th>117798</th>\n",
       "      <td>6332170af6b96b5628d975e7</td>\n",
       "      <td>2022-07-29T21:35:11</td>\n",
       "      <td>189095</td>\n",
       "      <td>rate</td>\n",
       "      <td>the+ladies+man+2000</td>\n",
       "      <td></td>\n",
       "      <td>2.0</td>\n",
       "    </tr>\n",
       "    <tr>\n",
       "      <th>16671</th>\n",
       "      <td>63321708f6b96b5628d7e953</td>\n",
       "      <td>2022-07-29T21:39</td>\n",
       "      <td>76270</td>\n",
       "      <td>rate</td>\n",
       "      <td>peter+pan+1953</td>\n",
       "      <td></td>\n",
       "      <td>2.0</td>\n",
       "    </tr>\n",
       "    <tr>\n",
       "      <th>73403</th>\n",
       "      <td>63321709f6b96b5628d8c95b</td>\n",
       "      <td>2022-07-29T21:40:39</td>\n",
       "      <td>86226</td>\n",
       "      <td>rate</td>\n",
       "      <td>sixteen+candles+1984</td>\n",
       "      <td></td>\n",
       "      <td>4.0</td>\n",
       "    </tr>\n",
       "    <tr>\n",
       "      <th>87658</th>\n",
       "      <td>6332170af6b96b5628d9031a</td>\n",
       "      <td>2022-07-29T21:43:26</td>\n",
       "      <td>196894</td>\n",
       "      <td>rate</td>\n",
       "      <td>21+2008</td>\n",
       "      <td></td>\n",
       "      <td>5.0</td>\n",
       "    </tr>\n",
       "    <tr>\n",
       "      <th>74270</th>\n",
       "      <td>63321709f6b96b5628d8cf45</td>\n",
       "      <td>2022-07-29T21:49:52</td>\n",
       "      <td>91785</td>\n",
       "      <td>rate</td>\n",
       "      <td>flipper+1996</td>\n",
       "      <td></td>\n",
       "      <td>4.0</td>\n",
       "    </tr>\n",
       "  </tbody>\n",
       "</table>\n",
       "</div>"
      ],
      "text/plain": [
       "                             _id            timestamp  user_id request_type  \\\n",
       "117798  6332170af6b96b5628d975e7  2022-07-29T21:35:11   189095         rate   \n",
       "16671   63321708f6b96b5628d7e953     2022-07-29T21:39    76270         rate   \n",
       "73403   63321709f6b96b5628d8c95b  2022-07-29T21:40:39    86226         rate   \n",
       "87658   6332170af6b96b5628d9031a  2022-07-29T21:43:26   196894         rate   \n",
       "74270   63321709f6b96b5628d8cf45  2022-07-29T21:49:52    91785         rate   \n",
       "\n",
       "                    movie_id movie_time  rating  \n",
       "117798   the+ladies+man+2000                2.0  \n",
       "16671         peter+pan+1953                2.0  \n",
       "73403   sixteen+candles+1984                4.0  \n",
       "87658                21+2008                5.0  \n",
       "74270           flipper+1996                4.0  "
      ]
     },
     "execution_count": 13,
     "metadata": {},
     "output_type": "execute_result"
    }
   ],
   "source": [
    "coll_name = ['movie-rateonly','stream-rateonly'][1]\n",
    "movie_df = mongo_local.read(coll_name).sort_values('timestamp')\n",
    "movie_df.head(5)"
   ]
  },
  {
   "cell_type": "raw",
   "id": "149e5f56-f3f1-4f87-ba48-787e9e5b998e",
   "metadata": {},
   "source": [
    "my_spark = SparkSession \\\n",
    "    .builder \\\n",
    "    .appName(\"myApp\") \\\n",
    "    .config(\"spark.mongodb.input.uri\", \"mongodb://127.0.0.1/test.coll\") \\\n",
    "    .config(\"spark.mongodb.output.uri\", \"mongodb://127.0.0.1/test.coll\") \\\n",
    "    .getOrCreate()"
   ]
  },
  {
   "cell_type": "markdown",
   "id": "0586e015-3d0f-4795-ae33-a9205cbcbc42",
   "metadata": {},
   "source": [
    "<b> Mongo Atlas"
   ]
  },
  {
   "cell_type": "code",
   "execution_count": 6,
   "id": "a34c1a4e-ad16-4cc3-b777-9f23bf2eaefd",
   "metadata": {},
   "outputs": [],
   "source": [
    "atlas_mongo = mongo_ops(db='movielog',host='cluster0.xuddjop.mongodb.net', \n",
    "                        username='mlproduction', password='pulp_prediction', atlas=True)"
   ]
  },
  {
   "cell_type": "raw",
   "id": "46361477-b22b-411f-8fc8-82368abe95d3",
   "metadata": {},
   "source": [
    "atlas_mongo.import_df('movie-rateonly', movie_df)"
   ]
  },
  {
   "cell_type": "code",
   "execution_count": 19,
   "id": "4968cdd6-82e0-41a3-bf86-edc459421408",
   "metadata": {},
   "outputs": [
    {
     "data": {
      "text/html": [
       "<div>\n",
       "<style scoped>\n",
       "    .dataframe tbody tr th:only-of-type {\n",
       "        vertical-align: middle;\n",
       "    }\n",
       "\n",
       "    .dataframe tbody tr th {\n",
       "        vertical-align: top;\n",
       "    }\n",
       "\n",
       "    .dataframe thead th {\n",
       "        text-align: right;\n",
       "    }\n",
       "</style>\n",
       "<table border=\"1\" class=\"dataframe\">\n",
       "  <thead>\n",
       "    <tr style=\"text-align: right;\">\n",
       "      <th></th>\n",
       "      <th>adult</th>\n",
       "      <th>genres</th>\n",
       "      <th>original_language</th>\n",
       "      <th>popularity</th>\n",
       "      <th>production_companies</th>\n",
       "      <th>production_countries</th>\n",
       "      <th>revenue</th>\n",
       "      <th>runtime</th>\n",
       "      <th>spoken_languages</th>\n",
       "      <th>status</th>\n",
       "      <th>vote_average</th>\n",
       "      <th>vote_count</th>\n",
       "      <th>message</th>\n",
       "    </tr>\n",
       "  </thead>\n",
       "  <tbody>\n",
       "    <tr>\n",
       "      <th>0</th>\n",
       "      <td>False</td>\n",
       "      <td>[28, 12, 53]</td>\n",
       "      <td>en</td>\n",
       "      <td>2.826282</td>\n",
       "      <td>[3146, 8411]</td>\n",
       "      <td>[United States of America]</td>\n",
       "      <td>0</td>\n",
       "      <td>96.0</td>\n",
       "      <td>[English]</td>\n",
       "      <td>Released</td>\n",
       "      <td>5.8</td>\n",
       "      <td>4</td>\n",
       "      <td>NaN</td>\n",
       "    </tr>\n",
       "    <tr>\n",
       "      <th>1</th>\n",
       "      <td>False</td>\n",
       "      <td>[14, 12, 28, 10751, 10749]</td>\n",
       "      <td>en</td>\n",
       "      <td>19.467404</td>\n",
       "      <td>[2, 3036, 16314]</td>\n",
       "      <td>[United States of America]</td>\n",
       "      <td>758539785</td>\n",
       "      <td>97.0</td>\n",
       "      <td>[English]</td>\n",
       "      <td>Released</td>\n",
       "      <td>7.0</td>\n",
       "      <td>4607</td>\n",
       "      <td>NaN</td>\n",
       "    </tr>\n",
       "  </tbody>\n",
       "</table>\n",
       "</div>"
      ],
      "text/plain": [
       "   adult                      genres original_language popularity  \\\n",
       "0  False                [28, 12, 53]                en   2.826282   \n",
       "1  False  [14, 12, 28, 10751, 10749]                en  19.467404   \n",
       "\n",
       "  production_companies        production_countries    revenue  runtime  \\\n",
       "0         [3146, 8411]  [United States of America]          0     96.0   \n",
       "1     [2, 3036, 16314]  [United States of America]  758539785     97.0   \n",
       "\n",
       "  spoken_languages    status vote_average vote_count message  \n",
       "0        [English]  Released          5.8          4     NaN  \n",
       "1        [English]  Released          7.0       4607     NaN  "
      ]
     },
     "execution_count": 19,
     "metadata": {},
     "output_type": "execute_result"
    }
   ],
   "source": [
    "movie_df.head(2)"
   ]
  },
  {
   "cell_type": "code",
   "execution_count": 8,
   "id": "0c47125c-c0bb-4ff0-999e-270a50e37fbd",
   "metadata": {},
   "outputs": [
    {
     "name": "stdout",
     "output_type": "stream",
     "text": [
      "(124208, 13)\n"
     ]
    },
    {
     "data": {
      "text/html": [
       "<div>\n",
       "<style scoped>\n",
       "    .dataframe tbody tr th:only-of-type {\n",
       "        vertical-align: middle;\n",
       "    }\n",
       "\n",
       "    .dataframe tbody tr th {\n",
       "        vertical-align: top;\n",
       "    }\n",
       "\n",
       "    .dataframe thead th {\n",
       "        text-align: right;\n",
       "    }\n",
       "</style>\n",
       "<table border=\"1\" class=\"dataframe\">\n",
       "  <thead>\n",
       "    <tr style=\"text-align: right;\">\n",
       "      <th></th>\n",
       "      <th>adult</th>\n",
       "      <th>genres</th>\n",
       "      <th>original_language</th>\n",
       "      <th>popularity</th>\n",
       "      <th>production_companies</th>\n",
       "      <th>production_countries</th>\n",
       "      <th>revenue</th>\n",
       "      <th>runtime</th>\n",
       "      <th>spoken_languages</th>\n",
       "      <th>status</th>\n",
       "      <th>vote_average</th>\n",
       "      <th>vote_count</th>\n",
       "      <th>message</th>\n",
       "    </tr>\n",
       "  </thead>\n",
       "  <tbody>\n",
       "    <tr>\n",
       "      <th>0</th>\n",
       "      <td>False</td>\n",
       "      <td>[28, 12, 53]</td>\n",
       "      <td>en</td>\n",
       "      <td>2.826282</td>\n",
       "      <td>[3146, 8411]</td>\n",
       "      <td>[United States of America]</td>\n",
       "      <td>0</td>\n",
       "      <td>96.0</td>\n",
       "      <td>[English]</td>\n",
       "      <td>Released</td>\n",
       "      <td>5.8</td>\n",
       "      <td>4</td>\n",
       "      <td>NaN</td>\n",
       "    </tr>\n",
       "    <tr>\n",
       "      <th>1</th>\n",
       "      <td>False</td>\n",
       "      <td>[14, 12, 28, 10751, 10749]</td>\n",
       "      <td>en</td>\n",
       "      <td>19.467404</td>\n",
       "      <td>[2, 3036, 16314]</td>\n",
       "      <td>[United States of America]</td>\n",
       "      <td>758539785</td>\n",
       "      <td>97.0</td>\n",
       "      <td>[English]</td>\n",
       "      <td>Released</td>\n",
       "      <td>7.0</td>\n",
       "      <td>4607</td>\n",
       "      <td>NaN</td>\n",
       "    </tr>\n",
       "  </tbody>\n",
       "</table>\n",
       "</div>"
      ],
      "text/plain": [
       "   adult                      genres original_language popularity  \\\n",
       "0  False                [28, 12, 53]                en   2.826282   \n",
       "1  False  [14, 12, 28, 10751, 10749]                en  19.467404   \n",
       "\n",
       "  production_companies        production_countries    revenue  runtime  \\\n",
       "0         [3146, 8411]  [United States of America]          0     96.0   \n",
       "1     [2, 3036, 16314]  [United States of America]  758539785     97.0   \n",
       "\n",
       "  spoken_languages    status vote_average vote_count message  \n",
       "0        [English]  Released          5.8          4     NaN  \n",
       "1        [English]  Released          7.0       4607     NaN  "
      ]
     },
     "execution_count": 8,
     "metadata": {},
     "output_type": "execute_result"
    }
   ],
   "source": [
    "#atlas_mongo.import_df('stream-rateonly', df)\n",
    "#atlas_mongo.import_df('user-rateonly', user_df)\n",
    "movie_df = atlas_mongo.read('movie-rateonly')\n",
    "print(movie_df.shape)\n",
    "movie_df.head(2)"
   ]
  }
 ],
 "metadata": {
  "kernelspec": {
   "display_name": "Python 3 (ipykernel)",
   "language": "python",
   "name": "python3"
  },
  "language_info": {
   "codemirror_mode": {
    "name": "ipython",
    "version": 3
   },
   "file_extension": ".py",
   "mimetype": "text/x-python",
   "name": "python",
   "nbconvert_exporter": "python",
   "pygments_lexer": "ipython3",
   "version": "3.8.10"
  },
  "vscode": {
   "interpreter": {
    "hash": "69600817429d13d9938f326c15d079722c500c97ddb53d09c79afb2c0f5ce63b"
   }
  }
 },
 "nbformat": 4,
 "nbformat_minor": 5
}
